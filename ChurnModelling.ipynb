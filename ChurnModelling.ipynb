{
 "cells": [
  {
   "cell_type": "markdown",
   "id": "matched-howard",
   "metadata": {},
   "source": [
    "# Churn Modelling(Müşteri Kayıp Analiz Modeli)"
   ]
  },
  {
   "cell_type": "markdown",
   "id": "atmospheric-collaboration",
   "metadata": {},
   "source": [
    "Kütüphanelerin import edilmesi"
   ]
  },
  {
   "cell_type": "code",
   "execution_count": 1,
   "id": "conceptual-newark",
   "metadata": {},
   "outputs": [],
   "source": [
    "import pandas as pd\n",
    "import numpy as np\n",
    "import matplotlib.pyplot as plt\n",
    "import seaborn as sns"
   ]
  },
  {
   "cell_type": "markdown",
   "id": "outer-sodium",
   "metadata": {},
   "source": [
    "Datanın okutulması"
   ]
  },
  {
   "cell_type": "code",
   "execution_count": 2,
   "id": "catholic-ensemble",
   "metadata": {},
   "outputs": [],
   "source": [
    "veriler=pd.read_csv('Churn.csv')"
   ]
  },
  {
   "cell_type": "code",
   "execution_count": 3,
   "id": "first-child",
   "metadata": {},
   "outputs": [
    {
     "name": "stdout",
     "output_type": "stream",
     "text": [
      "      RowNumber  CustomerId    Surname  CreditScore Geography  Gender  Age  \\\n",
      "0             1    15634602   Hargrave          619    France  Female   42   \n",
      "1             2    15647311       Hill          608     Spain  Female   41   \n",
      "2             3    15619304       Onio          502    France  Female   42   \n",
      "3             4    15701354       Boni          699    France  Female   39   \n",
      "4             5    15737888   Mitchell          850     Spain  Female   43   \n",
      "...         ...         ...        ...          ...       ...     ...  ...   \n",
      "9995       9996    15606229   Obijiaku          771    France    Male   39   \n",
      "9996       9997    15569892  Johnstone          516    France    Male   35   \n",
      "9997       9998    15584532        Liu          709    France  Female   36   \n",
      "9998       9999    15682355  Sabbatini          772   Germany    Male   42   \n",
      "9999      10000    15628319     Walker          792    France  Female   28   \n",
      "\n",
      "      Tenure    Balance  NumOfProducts  HasCrCard  IsActiveMember  \\\n",
      "0          2       0.00              1          1               1   \n",
      "1          1   83807.86              1          0               1   \n",
      "2          8  159660.80              3          1               0   \n",
      "3          1       0.00              2          0               0   \n",
      "4          2  125510.82              1          1               1   \n",
      "...      ...        ...            ...        ...             ...   \n",
      "9995       5       0.00              2          1               0   \n",
      "9996      10   57369.61              1          1               1   \n",
      "9997       7       0.00              1          0               1   \n",
      "9998       3   75075.31              2          1               0   \n",
      "9999       4  130142.79              1          1               0   \n",
      "\n",
      "      EstimatedSalary  Exited  \n",
      "0           101348.88       1  \n",
      "1           112542.58       0  \n",
      "2           113931.57       1  \n",
      "3            93826.63       0  \n",
      "4            79084.10       0  \n",
      "...               ...     ...  \n",
      "9995         96270.64       0  \n",
      "9996        101699.77       0  \n",
      "9997         42085.58       1  \n",
      "9998         92888.52       1  \n",
      "9999         38190.78       0  \n",
      "\n",
      "[10000 rows x 14 columns]\n"
     ]
    }
   ],
   "source": [
    "print(veriler)"
   ]
  },
  {
   "cell_type": "markdown",
   "id": "spectacular-submission",
   "metadata": {},
   "source": [
    "Veri Ön İşleme"
   ]
  },
  {
   "cell_type": "markdown",
   "id": "focused-indianapolis",
   "metadata": {},
   "source": [
    "İlk 3 değerin işimize yaramadığını düşündüğüm için onları almamayı tercih ediyorum."
   ]
  },
  {
   "cell_type": "code",
   "execution_count": 4,
   "id": "funded-restriction",
   "metadata": {},
   "outputs": [],
   "source": [
    "X= veriler.iloc[:,3:13].values\n",
    "Y=veriler.iloc[:,13].values"
   ]
  },
  {
   "cell_type": "markdown",
   "id": "twelve-format",
   "metadata": {},
   "source": [
    "Coğrafya ve Cinsiyet kolonunu label encoder yaparak matrise dönüştürmeye çalışıyoruz."
   ]
  },
  {
   "cell_type": "code",
   "execution_count": 5,
   "id": "suitable-mississippi",
   "metadata": {},
   "outputs": [],
   "source": [
    "from sklearn import preprocessing"
   ]
  },
  {
   "cell_type": "code",
   "execution_count": 6,
   "id": "sustained-portuguese",
   "metadata": {},
   "outputs": [],
   "source": [
    "l1=preprocessing.LabelEncoder()\n",
    "X[:,1]=l1.fit_transform(X[:,1])"
   ]
  },
  {
   "cell_type": "code",
   "execution_count": 7,
   "id": "legendary-ending",
   "metadata": {},
   "outputs": [],
   "source": [
    "l2=preprocessing.LabelEncoder()\n",
    "X[:,2]=l2.fit_transform(X[:,2])"
   ]
  },
  {
   "cell_type": "markdown",
   "id": "southern-microwave",
   "metadata": {},
   "source": [
    "Coğrafya kolonu ikiden fazla değişken içerdiği için one hot encoder dönüşümü yapıyoruz."
   ]
  },
  {
   "cell_type": "code",
   "execution_count": 8,
   "id": "surprising-consumer",
   "metadata": {},
   "outputs": [],
   "source": [
    "from sklearn.preprocessing import OneHotEncoder\n",
    "from sklearn.compose import ColumnTransformer"
   ]
  },
  {
   "cell_type": "code",
   "execution_count": 9,
   "id": "mediterranean-transformation",
   "metadata": {},
   "outputs": [],
   "source": [
    "ohe=ColumnTransformer([('ohe', OneHotEncoder(dtype=float),[1])], remainder=\"passthrough\")\n",
    "x=ohe.fit_transform(X)\n",
    "x=X[:,1:]"
   ]
  },
  {
   "cell_type": "markdown",
   "id": "warming-issue",
   "metadata": {},
   "source": [
    "Eğitim ve test verisinin oluşturulması"
   ]
  },
  {
   "cell_type": "code",
   "execution_count": 10,
   "id": "continuing-devon",
   "metadata": {},
   "outputs": [],
   "source": [
    "from sklearn.model_selection import train_test_split"
   ]
  },
  {
   "cell_type": "code",
   "execution_count": 11,
   "id": "eight-appliance",
   "metadata": {},
   "outputs": [],
   "source": [
    "x_train,x_test,y_train,y_test=train_test_split(X,Y,test_size=0.33,random_state=0)"
   ]
  },
  {
   "cell_type": "markdown",
   "id": "amateur-asian",
   "metadata": {},
   "source": [
    "Veri ölçeklendirme"
   ]
  },
  {
   "cell_type": "code",
   "execution_count": 12,
   "id": "nominated-antarctica",
   "metadata": {},
   "outputs": [],
   "source": [
    "from sklearn.preprocessing import StandardScaler\n",
    "sc=StandardScaler()"
   ]
  },
  {
   "cell_type": "code",
   "execution_count": 14,
   "id": "double-tennis",
   "metadata": {},
   "outputs": [],
   "source": [
    "x_train=sc.fit_transform(x_train)\n",
    "x_test=sc.fit_transform(x_test)"
   ]
  },
  {
   "cell_type": "markdown",
   "id": "informed-channels",
   "metadata": {},
   "source": [
    "Ölçeklendirilen verilerin boyutuna bakılması"
   ]
  },
  {
   "cell_type": "code",
   "execution_count": 15,
   "id": "understanding-belize",
   "metadata": {},
   "outputs": [
    {
     "data": {
      "text/plain": [
       "(6700, 10)"
      ]
     },
     "execution_count": 15,
     "metadata": {},
     "output_type": "execute_result"
    }
   ],
   "source": [
    "x_train.shape"
   ]
  },
  {
   "cell_type": "code",
   "execution_count": 16,
   "id": "organic-shelter",
   "metadata": {},
   "outputs": [
    {
     "data": {
      "text/plain": [
       "(6700,)"
      ]
     },
     "execution_count": 16,
     "metadata": {},
     "output_type": "execute_result"
    }
   ],
   "source": [
    "y_train.shape"
   ]
  },
  {
   "cell_type": "markdown",
   "id": "sharing-powder",
   "metadata": {},
   "source": [
    "Yapay Sinir Ağlarına(ANN) Giriş için kütüphanelerin import edilmesi"
   ]
  },
  {
   "cell_type": "code",
   "execution_count": 17,
   "id": "narrative-nation",
   "metadata": {},
   "outputs": [],
   "source": [
    "import keras\n",
    "from keras.models import Sequential\n",
    "from keras.layers import Dense"
   ]
  },
  {
   "cell_type": "markdown",
   "id": "sixth-runner",
   "metadata": {},
   "source": [
    "ANN için giriş, gizli ve çıkış katmanının oluşturulması"
   ]
  },
  {
   "cell_type": "code",
   "execution_count": 20,
   "id": "graduate-grace",
   "metadata": {},
   "outputs": [],
   "source": [
    "model=Sequential()\n",
    "model.add(Dense(6,activation='relu'))\n",
    "model.add(Dense(6,activation='relu'))\n",
    "model.add(Dense(6,activation='relu'))\n",
    "model.add(Dense(1,activation='sigmoid'))"
   ]
  },
  {
   "cell_type": "code",
   "execution_count": 35,
   "id": "athletic-portable",
   "metadata": {},
   "outputs": [],
   "source": [
    "model.compile(optimizer='adam',loss='binary_crossentropy',metrics=['accuracy'])"
   ]
  },
  {
   "cell_type": "markdown",
   "id": "supported-cabinet",
   "metadata": {},
   "source": [
    "Model eğitiminin devir sayısının belirlenmesi"
   ]
  },
  {
   "cell_type": "code",
   "execution_count": 37,
   "id": "bizarre-trustee",
   "metadata": {},
   "outputs": [
    {
     "name": "stdout",
     "output_type": "stream",
     "text": [
      "Epoch 1/50\n",
      "210/210 [==============================] - 0s 744us/step - loss: 0.3263 - accuracy: 0.8660\n",
      "Epoch 2/50\n",
      "210/210 [==============================] - 0s 659us/step - loss: 0.3263 - accuracy: 0.8670\n",
      "Epoch 3/50\n",
      "210/210 [==============================] - 0s 691us/step - loss: 0.3262 - accuracy: 0.8663\n",
      "Epoch 4/50\n",
      "210/210 [==============================] - 0s 702us/step - loss: 0.3259 - accuracy: 0.86580s - loss: 0.3254 - accuracy: 0.86\n",
      "Epoch 5/50\n",
      "210/210 [==============================] - 0s 716us/step - loss: 0.3261 - accuracy: 0.8669\n",
      "Epoch 6/50\n",
      "210/210 [==============================] - 0s 709us/step - loss: 0.3256 - accuracy: 0.8672\n",
      "Epoch 7/50\n",
      "210/210 [==============================] - 0s 722us/step - loss: 0.3259 - accuracy: 0.8663\n",
      "Epoch 8/50\n",
      "210/210 [==============================] - 0s 662us/step - loss: 0.3261 - accuracy: 0.8645\n",
      "Epoch 9/50\n",
      "210/210 [==============================] - 0s 728us/step - loss: 0.3258 - accuracy: 0.86520s - loss: 0.3291 - accuracy: 0.\n",
      "Epoch 10/50\n",
      "210/210 [==============================] - 0s 694us/step - loss: 0.3253 - accuracy: 0.8642\n",
      "Epoch 11/50\n",
      "210/210 [==============================] - 0s 678us/step - loss: 0.3261 - accuracy: 0.8642\n",
      "Epoch 12/50\n",
      "210/210 [==============================] - 0s 697us/step - loss: 0.3265 - accuracy: 0.8655\n",
      "Epoch 13/50\n",
      "210/210 [==============================] - ETA: 0s - loss: 0.3308 - accuracy: 0.85 - 0s 695us/step - loss: 0.3265 - accuracy: 0.8628\n",
      "Epoch 14/50\n",
      "210/210 [==============================] - 0s 699us/step - loss: 0.3256 - accuracy: 0.8637\n",
      "Epoch 15/50\n",
      "210/210 [==============================] - ETA: 0s - loss: 0.3223 - accuracy: 0.86 - 0s 692us/step - loss: 0.3256 - accuracy: 0.8658\n",
      "Epoch 16/50\n",
      "210/210 [==============================] - 0s 685us/step - loss: 0.3261 - accuracy: 0.86630s - loss: 0.3219 - accuracy: 0.86\n",
      "Epoch 17/50\n",
      "210/210 [==============================] - 0s 690us/step - loss: 0.3258 - accuracy: 0.8663\n",
      "Epoch 18/50\n",
      "210/210 [==============================] - 0s 701us/step - loss: 0.3262 - accuracy: 0.8645\n",
      "Epoch 19/50\n",
      "210/210 [==============================] - 0s 665us/step - loss: 0.3261 - accuracy: 0.8660\n",
      "Epoch 20/50\n",
      "210/210 [==============================] - 0s 770us/step - loss: 0.3259 - accuracy: 0.8676\n",
      "Epoch 21/50\n",
      "210/210 [==============================] - 0s 695us/step - loss: 0.3255 - accuracy: 0.8661\n",
      "Epoch 22/50\n",
      "210/210 [==============================] - 0s 696us/step - loss: 0.3256 - accuracy: 0.8660\n",
      "Epoch 23/50\n",
      "210/210 [==============================] - 0s 659us/step - loss: 0.3257 - accuracy: 0.8664\n",
      "Epoch 24/50\n",
      "210/210 [==============================] - 0s 706us/step - loss: 0.3261 - accuracy: 0.8648\n",
      "Epoch 25/50\n",
      "210/210 [==============================] - 0s 688us/step - loss: 0.3256 - accuracy: 0.8658\n",
      "Epoch 26/50\n",
      "210/210 [==============================] - 0s 696us/step - loss: 0.3259 - accuracy: 0.8649\n",
      "Epoch 27/50\n",
      "210/210 [==============================] - 0s 748us/step - loss: 0.3259 - accuracy: 0.8651\n",
      "Epoch 28/50\n",
      "210/210 [==============================] - 0s 693us/step - loss: 0.3253 - accuracy: 0.8664\n",
      "Epoch 29/50\n",
      "210/210 [==============================] - 0s 700us/step - loss: 0.3256 - accuracy: 0.8670\n",
      "Epoch 30/50\n",
      "210/210 [==============================] - 0s 678us/step - loss: 0.3257 - accuracy: 0.8654\n",
      "Epoch 31/50\n",
      "210/210 [==============================] - 0s 842us/step - loss: 0.3256 - accuracy: 0.8675\n",
      "Epoch 32/50\n",
      "210/210 [==============================] - 0s 820us/step - loss: 0.3255 - accuracy: 0.8652\n",
      "Epoch 33/50\n",
      "210/210 [==============================] - 0s 861us/step - loss: 0.3259 - accuracy: 0.8643\n",
      "Epoch 34/50\n",
      "210/210 [==============================] - 0s 837us/step - loss: 0.3260 - accuracy: 0.8660\n",
      "Epoch 35/50\n",
      "210/210 [==============================] - 0s 787us/step - loss: 0.3257 - accuracy: 0.8654\n",
      "Epoch 36/50\n",
      "210/210 [==============================] - 0s 926us/step - loss: 0.3249 - accuracy: 0.8649\n",
      "Epoch 37/50\n",
      "210/210 [==============================] - 0s 2ms/step - loss: 0.3261 - accuracy: 0.8654\n",
      "Epoch 38/50\n",
      "210/210 [==============================] - 0s 2ms/step - loss: 0.3258 - accuracy: 0.8663\n",
      "Epoch 39/50\n",
      "210/210 [==============================] - 0s 2ms/step - loss: 0.3256 - accuracy: 0.8652\n",
      "Epoch 40/50\n",
      "210/210 [==============================] - 0s 2ms/step - loss: 0.3257 - accuracy: 0.8655\n",
      "Epoch 41/50\n",
      "210/210 [==============================] - 0s 2ms/step - loss: 0.3257 - accuracy: 0.8640\n",
      "Epoch 42/50\n",
      "210/210 [==============================] - 0s 2ms/step - loss: 0.3266 - accuracy: 0.8649\n",
      "Epoch 43/50\n",
      "210/210 [==============================] - 0s 2ms/step - loss: 0.3254 - accuracy: 0.8649\n",
      "Epoch 44/50\n",
      "210/210 [==============================] - 0s 2ms/step - loss: 0.3253 - accuracy: 0.8663\n",
      "Epoch 45/50\n",
      "210/210 [==============================] - 0s 2ms/step - loss: 0.3252 - accuracy: 0.8657\n",
      "Epoch 46/50\n",
      "210/210 [==============================] - 0s 2ms/step - loss: 0.3254 - accuracy: 0.8637\n",
      "Epoch 47/50\n",
      "210/210 [==============================] - 0s 705us/step - loss: 0.3252 - accuracy: 0.86490s - loss: 0.3296 - accuracy: 0.86\n",
      "Epoch 48/50\n",
      "210/210 [==============================] - 0s 679us/step - loss: 0.3255 - accuracy: 0.8661\n",
      "Epoch 49/50\n",
      "210/210 [==============================] - 0s 691us/step - loss: 0.3250 - accuracy: 0.8666\n",
      "Epoch 50/50\n",
      "210/210 [==============================] - 0s 671us/step - loss: 0.3255 - accuracy: 0.8648\n"
     ]
    },
    {
     "data": {
      "text/plain": [
       "<tensorflow.python.keras.callbacks.History at 0x20688423460>"
      ]
     },
     "execution_count": 37,
     "metadata": {},
     "output_type": "execute_result"
    }
   ],
   "source": [
    "model.fit(x=x_train,y=y_train, epochs=50)"
   ]
  },
  {
   "cell_type": "markdown",
   "id": "limited-tracy",
   "metadata": {},
   "source": [
    "Bağımlı değişkenin tahmin edilmesi"
   ]
  },
  {
   "cell_type": "code",
   "execution_count": 42,
   "id": "hundred-official",
   "metadata": {},
   "outputs": [],
   "source": [
    "y_pred=model.predict(x_test)"
   ]
  },
  {
   "cell_type": "markdown",
   "id": "personal-procedure",
   "metadata": {},
   "source": [
    "Aşağıda bulunan kod, değerler ondalıklı olduğu için 0-1 arasında almamızı sağlamaktadır."
   ]
  },
  {
   "cell_type": "code",
   "execution_count": 43,
   "id": "magnetic-senator",
   "metadata": {},
   "outputs": [],
   "source": [
    "y_pred=(y_pred>0.5)"
   ]
  },
  {
   "cell_type": "markdown",
   "id": "stable-spank",
   "metadata": {},
   "source": [
    "Hata matrisinin(Confusion matrix) oluşturulması"
   ]
  },
  {
   "cell_type": "code",
   "execution_count": 44,
   "id": "incomplete-serbia",
   "metadata": {},
   "outputs": [],
   "source": [
    "from sklearn.metrics import confusion_matrix\n",
    "cm=confusion_matrix(y_test,y_pred)"
   ]
  },
  {
   "cell_type": "code",
   "execution_count": 46,
   "id": "tested-queue",
   "metadata": {},
   "outputs": [
    {
     "name": "stdout",
     "output_type": "stream",
     "text": [
      "[[2523   94]\n",
      " [ 368  315]]\n"
     ]
    }
   ],
   "source": [
    "print(cm)"
   ]
  },
  {
   "cell_type": "markdown",
   "id": "grand-property",
   "metadata": {},
   "source": [
    "Modele göre 2523 kişi sitede kalmayı tercih edeceği, 315 kişi de siteden ayrılmayı tercih edeceği tahmin edilmiştir."
   ]
  },
  {
   "cell_type": "code",
   "execution_count": null,
   "id": "colonial-agreement",
   "metadata": {},
   "outputs": [],
   "source": []
  }
 ],
 "metadata": {
  "kernelspec": {
   "display_name": "Python 3",
   "language": "python",
   "name": "python3"
  },
  "language_info": {
   "codemirror_mode": {
    "name": "ipython",
    "version": 3
   },
   "file_extension": ".py",
   "mimetype": "text/x-python",
   "name": "python",
   "nbconvert_exporter": "python",
   "pygments_lexer": "ipython3",
   "version": "3.8.5"
  }
 },
 "nbformat": 4,
 "nbformat_minor": 5
}
